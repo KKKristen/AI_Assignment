{
 "cells": [
  {
   "cell_type": "markdown",
   "metadata": {},
   "source": [
    "# Introduction to Artificial Intelligence for Non Computing"
   ]
  },
  {
   "cell_type": "markdown",
   "metadata": {},
   "source": [
    "## Practical 3 (weeks 5 - 6)"
   ]
  },
  {
   "cell_type": "markdown",
   "metadata": {},
   "source": [
    "The following links provide additional information about data analysis , machine learning and Numpy"
   ]
  },
  {
   "cell_type": "markdown",
   "metadata": {},
   "source": [
    "Python data analysis: https://www.imooc.com/learn/843\n",
    "machine learning: https://www.imooc.com/learn/717\n",
    "Numpy :https://www.imooc.com/learn/943"
   ]
  },
  {
   "cell_type": "markdown",
   "metadata": {},
   "source": [
    "#### Theory Questions"
   ]
  },
  {
   "cell_type": "markdown",
   "metadata": {},
   "source": [
    "1\\.Which of the following are true and which are false? Give brief explanations.\n",
    "- a. In a fully observable, turn-taking, zero-sum game between two perfectly rational players,it does not help the first player to know what strategy the second player is using—that is, what move the second player will make, given the first player's move.\n",
    "- b. In a partially observable, turn-taking, zero-sum game between two perfectly rational players, it does not help the first player to know what move the second player will make, given the first player's move.\n",
    "- c. A perfectly rational backgammon agent never loses.\n",
    "\n",
    "See textbook Chapter6 24.6"
   ]
  },
  {
   "cell_type": "markdown",
   "metadata": {},
   "source": [
    "_your answer here..._  \n",
    "a.True. The second player will play good.  \n",
    "b.False. the first player will get more information about this game.  \n",
    "c.False. Backgammon is a game of chance, so we can't say that it will never loss.  \n",
    "***"
   ]
  },
  {
   "cell_type": "markdown",
   "metadata": {},
   "source": [
    "2\\.Define in your own words the terms constraint, backtracking search, arc consistency,backjumping, min-conflicts, and cycle cutset.\n",
    "\n",
    "See textbook Chapter6 6.16  5.1"
   ]
  },
  {
   "cell_type": "markdown",
   "metadata": {},
   "source": [
    "_your answer here..._   \n",
    "_constraint:_  a restriction on the possible values of two or more variables.\n",
    "_backtracking search:_  once the search meet a dead-end, it must back to last node, the is used in DFS.   \n",
    "_arc consistent:_ for every value in the current domain of A, there is some consistent value of B.  \n",
    "_backjumping:_ make backtracking search more efficient, it jump back more than one node when meet a dead-end.    \n",
    "_min-conflicts:_ When we need to modify a number, we should to choose the value that conflict with the fewest number of other variables  \n",
    "_cycle cutset:_ a set of variables which when remove from the constraint graph make it acyclic(may be a tree) . When the variables of a cycle cutset are instantiated the remainder of the CSP can be solved in linear time.  \n",
    "***"
   ]
  },
  {
   "cell_type": "markdown",
   "metadata": {},
   "source": [
    "3\\.Explain why it is a good heuristic to choose the variable that is most constrained but the value that is least constraining in a CSP search.\n",
    "\n",
    "See textbook Chapter6 6.9  5.3"
   ]
  },
  {
   "cell_type": "markdown",
   "metadata": {},
   "source": [
    "_your answer here..._   \n",
    "It is a good heuristic to choose the variables that are most constrained because it choose a variable that is likely to cause a failure, and it is more efficient to fail as early as possible. The least constraing value heuristic makes sense because it allows the most chances for future assignments to avoid conflict.  \n",
    "\n",
    "***"
   ]
  },
  {
   "cell_type": "markdown",
   "metadata": {},
   "source": [
    "4\\.Consider the following procedure for choosing moves in games with chance nodes: \n",
    "- 1、Generate some dice-roll sequences (say, 50) down to a suitable depth (say, 8).\n",
    "- 2、With known dice rolls, the game tree becomes deterministic. For each dice-roll sequence,solve the resulting deterministic game tree using alpha-beta.\n",
    "- 3、Use the results to estimate the value of each move and to choose the best.Will this procedure work well? Why (or why not)?\n",
    "\n",
    "See textbook Chapter5 5.19  6.8"
   ]
  },
  {
   "cell_type": "markdown",
   "metadata": {},
   "source": [
    "_your answer here..._   \n",
    "I think the above procedure will cause the incorrect results. It assumes that averaging commutes with min and max, which is not correct. In fact, the choices made by each player in the deterministic trees are based on full knowledges of future dice rolls, and bear no necessary relationship to the moves made without such knowledge.  \n",
    "***"
   ]
  },
  {
   "cell_type": "markdown",
   "metadata": {},
   "source": [
    "5\\. Now,please consider this game:  there are three plates A, B and C, each plate has three bills. A puts 1, 20, 50; B puts 5, 10, 100; C puts 1, 5, 20. All units are \"Yuan\". There are two persons A and B, and two of them can check out three plates and banknotes .（ A is ourself, The other is B）\n",
    "The game is divided into three steps: \n",
    "- 1、A select a plate from three plate.\n",
    "- 2、B take out two banknotes from A selected plate,and give the  banknotes to A.  \n",
    "- 3、A take one of the two banknotes, and take it away.among,A want to get the max banknotes, B want to let A to get the min.\n",
    "\n",
    "Try to understand the minimax algorithm，you can click the link:https://blog.csdn.net/tangchenyi/article/details/22920031"
   ]
  },
  {
   "cell_type": "markdown",
   "metadata": {},
   "source": [
    "_your answer here..._  \n",
    "<div style=\"float:left;\" ><img src=\"img/answer.jpg\" width=\"400\" height=\"300\" >\n",
    "\n",
    "***"
   ]
  },
  {
   "cell_type": "markdown",
   "metadata": {},
   "source": [
    "### Programming Excercises"
   ]
  },
  {
   "cell_type": "markdown",
   "metadata": {},
   "source": [
    "1\\. Guess number(Single number): please generate a randomly number  with the function (random), then ask someone to guess the number,I think we should give the corresponding hint, otherwise it will be very difficult to guess the number.the game will be over untill you get the right number."
   ]
  },
  {
   "cell_type": "code",
   "execution_count": 1,
   "metadata": {},
   "outputs": [
    {
     "name": "stdout",
     "output_type": "stream",
     "text": [
      "11\n",
      "Game Begin\n",
      "Please guess this number between 1 and 20：10\n",
      "The guess number is smaller than the random number, please try again!\n",
      "Please guess this number between 1 and 20：13\n",
      "The guess number is larger than the random number, please try again!\n",
      "Please guess this number between 1 and 20：11\n",
      "The guess number is smaller than the random number, please try again!\n",
      "Congratulations！\n",
      "Game Over\n"
     ]
    }
   ],
   "source": [
    "## write your answer here!\n",
    "import random\n",
    "\n",
    "random_number = random.randint(1, 20)\n",
    "\n",
    "print('Game Begin')\n",
    "guess = 0\n",
    "while (guess != random_number):\n",
    "    temp = input('Please guess this number between 1 and 20：')\n",
    "    guess = int(temp)\n",
    "    if (guess > random_number):\n",
    "        print('The guess number is larger than the random number, please try again!')\n",
    "    else:\n",
    "        print('The guess number is smaller than the random number, please try again!')\n",
    "if (guess == random_number):\n",
    "    print('Congratulations！')\n",
    "    print('Game Over')"
   ]
  },
  {
   "cell_type": "markdown",
   "metadata": {},
   "source": [
    "2\\.if you had understand the guess single number games,Congratulates,next is the guess three number games,Maybe you can do it well.But this is a different way of thinking. \n",
    "first : we need generate three numbers,there are most ten times chances give  you to guess the number,of course,we also give you some cue.\n",
    "\n",
    "- 'When I say:-->It means:\n",
    "- 'error--> The 3 numbers are not in the mystical numbers.'\n",
    "- 'Only the number is correct --> the number is right , but the position is not right.'\n",
    "- 'Absolutely right--> numbers is right and the position also right.'\n",
    "\n",
    "Maybe it's better for you to understand the rule well through see the picture.\n",
    "<div style=\"float:left;\" ><img src=\"img/p1.png\" width=\"400\" height=\"300\" >"
   ]
  },
  {
   "cell_type": "code",
   "execution_count": null,
   "metadata": {},
   "outputs": [],
   "source": [
    "## write your answer here!\n",
    "import random\n",
    "import operator\n",
    "\n",
    "random_number1 = random.randint(1, 9)\n",
    "random_number2 = random.randint(1, 9)\n",
    "random_number3 = random.randint(1, 9)\n",
    "answer_list = [str(random_number1), str(random_number2), str(random_number3)]\n",
    "answer = str(random_number1) + str(random_number2) + str(random_number3)\n",
    "print('Game Begin')\n",
    "guess = ''\n",
    "count = 0\n",
    "while (guess != answer):\n",
    "    temp = input('Please guess this number：')\n",
    "    guess = str(temp)\n",
    "    count = count + 1\n",
    "    if count > 10:\n",
    "        print('Have exceed ten guess times!')\n",
    "        break\n",
    "\n",
    "    answer_list.sort()\n",
    "    list2 = [guess[0], guess[1], guess[2]]\n",
    "\n",
    "    list2.sort()\n",
    "    b = operator.eq(answer_list, list2)\n",
    "\n",
    "    if b:\n",
    "        print('Only the number is correct.')\n",
    "    else:\n",
    "        print('error')\n",
    "\n",
    "    if guess == answer:\n",
    "        print('Absolutely right!')\n",
    "        print('Game Over')"
   ]
  },
  {
   "cell_type": "markdown",
   "metadata": {},
   "source": [
    "3\\.please try using Python's Tkinter to make a visual interface（GUI）.if you don't know anything.Maybe you can refer to the below interface.and implement it by code.\n",
    "\n",
    "<div style=\"float:left;\" ><img src=\"img/p2.png\" width=\"200\" height=\"200\" >"
   ]
  },
  {
   "cell_type": "code",
   "execution_count": null,
   "metadata": {},
   "outputs": [],
   "source": [
    "## write your answer here!\n",
    "from tkinter import *\n",
    "\n",
    "root = Tk()\n",
    "part1 = Listbox(root)\n",
    "part2 = Listbox(root)\n",
    "\n",
    "li = ['C', 'python', 'php', 'html', 'SQL', 'java']\n",
    "movie = ['CSS', 'jQuery', 'Bootstrap']\n",
    "for item in li:  \n",
    "    part1.insert(0, item)\n",
    "for item in movie:  \n",
    "    part2.insert(0, item)\n",
    "\n",
    "part1.pack()  \n",
    "part2.pack()\n",
    "\n",
    "root.mainloop()  \n"
   ]
  },
  {
   "cell_type": "markdown",
   "metadata": {},
   "source": [
    "4\\.Through the initial trial of Tkinter,    please write a simple calculator.\n",
    "\n",
    "<div style=\"float:left;\" ><img src=\"img/p3.png\" width=\"180\" height=\"200\" center=\"left\"></div>\n",
    "<div style=\"float:left;\" ><img src=\"img/p4.png\" width=\"180\" height=\"200\" center=\"right\" ></div>"
   ]
  },
  {
   "cell_type": "code",
   "execution_count": null,
   "metadata": {},
   "outputs": [],
   "source": [
    "## write your answer here!\n",
    "import tkinter \n",
    "root  = tkinter.Tk()\n",
    "root.minsize(280,500)\n",
    "root.title('Calculator')\n",
    "\n",
    "result = tkinter.StringVar()\n",
    "result.set(0)                           \n",
    "result2 = tkinter.StringVar()           \n",
    "result2.set('')\n",
    "\n",
    "label = tkinter.Label(root,bg = '#EEE9E9',bd ='9',fg = '#828282',anchor = 'se',textvariable = result2)\n",
    "label.place(width = 280,height = 170)\n",
    "label2 = tkinter.Label(root,bg = '#EEE9E9',bd ='9',fg = 'black',anchor = 'se',textvariable = result)\n",
    "label2.place(y = 170,width = 280,height = 60)\n",
    "\n",
    "\n",
    "btn7 = tkinter.Button(root,text = '7',fg = ('#4F4F4F'),bd = 0.5,command = lambda : pressNum('7'))\n",
    "btn7.place(x = 0,y = 285,width = 70,height = 55)\n",
    "btn8 = tkinter.Button(root,text = '8',fg = ('#4F4F4F'),bd = 0.5,command = lambda : pressNum('8'))\n",
    "btn8.place(x = 70,y = 285,width = 70,height = 55)\n",
    "btn9 = tkinter.Button(root,text = '9',fg = ('#4F4F4F'),bd = 0.5,command = lambda : pressNum('9'))\n",
    "btn9.place(x = 140,y = 285,width = 70,height = 55)\n",
    "btn4 = tkinter.Button(root,text = '4',fg = ('#4F4F4F'),bd = 0.5,command = lambda : pressNum('4'))\n",
    "btn4.place(x = 0,y = 340,width = 70,height = 55)\n",
    "btn5 = tkinter.Button(root,text = '5',fg = ('#4F4F4F'),bd = 0.5,command = lambda : pressNum('5'))\n",
    "btn5.place(x = 70,y = 340,width = 70,height = 55)\n",
    "btn6 = tkinter.Button(root,text = '6',fg = ('#4F4F4F'),bd = 0.5,command = lambda : pressNum('6'))\n",
    "btn6.place(x = 140,y = 340,width = 70,height = 55)\n",
    "btn1 = tkinter.Button(root,text = '1',fg = ('#4F4F4F'),bd = 0.5,command = lambda : pressNum('1'))\n",
    "btn1.place(x = 0,y = 395,width = 70,height = 55)\n",
    "btn2 = tkinter.Button(root,text = '2',fg = ('#4F4F4F'),bd = 0.5,command = lambda : pressNum('2'))\n",
    "btn2.place(x = 70,y = 395,width = 70,height = 55)\n",
    "btn3 = tkinter.Button(root,text = '3',fg = ('#4F4F4F'),bd = 0.5,command = lambda : pressNum('3'))\n",
    "btn3.place(x = 140,y = 395,width = 70,height = 55)\n",
    "btn0 = tkinter.Button(root,text = '0',fg = ('#4F4F4F'),bd = 0.5,command = lambda : pressNum('0'))\n",
    "btn0.place(x = 70,y = 450,width = 70,height = 55)\n",
    "\n",
    "\n",
    "#运算符号按钮\n",
    "btnac = tkinter.Button(root,text = 'AC',bd = 0.5,fg = 'orange',command = lambda :pressCompute('AC'))\n",
    "btnac.place(x = 0,y = 230,width = 70,height = 55)\n",
    "btnback = tkinter.Button(root,text = '←',fg = '#4F4F4F',bd = 0.5,command = lambda:pressCompute('b'))\n",
    "btnback.place(x = 70,y = 230,width = 70,height = 55)\n",
    "btndivi = tkinter.Button(root,text = '÷',fg = '#4F4F4F',bd = 0.5,command = lambda:pressCompute('/'))\n",
    "btndivi.place(x = 140,y = 230,width = 70,height = 55)\n",
    "btnmul = tkinter.Button(root,text ='×',fg = \"#4F4F4F\",bd = 0.5,command = lambda:pressCompute('*'))\n",
    "btnmul.place(x = 210,y = 230,width = 70,height = 55)\n",
    "btnsub = tkinter.Button(root,text = '-',fg = ('#4F4F4F'),bd = 0.5,command = lambda:pressCompute('-'))\n",
    "btnsub.place(x = 210,y = 285,width = 70,height = 55)\n",
    "btnadd = tkinter.Button(root,text = '+',fg = ('#4F4F4F'),bd = 0.5,command = lambda:pressCompute('+'))\n",
    "btnadd.place(x = 210,y = 340,width = 70,height = 55)\n",
    "btnequ = tkinter.Button(root,text = '=',bg = 'orange',fg = ('#4F4F4F'),bd = 0.5,command = lambda :pressEqual())\n",
    "btnequ.place(x = 210,y = 395,width = 70,height = 110)\n",
    "btnper = tkinter.Button(root,text = '%',fg = ('#4F4F4F'),bd = 0.5,command = lambda:pressCompute('%'))\n",
    "btnper.place(x = 0,y = 450,width = 70,height = 55)\n",
    "btnpoint = tkinter.Button(root,text = '.',fg = ('#4F4F4F'),bd = 0.5,command = lambda:pressCompute('.'))\n",
    "btnpoint.place(x = 140,y = 450,width = 70,height = 55)\n",
    "\n",
    "\n",
    "lists = []                            \n",
    "isPressSign = False                 \n",
    "isPressNum = False\n",
    "\n",
    "def pressNum(num):\n",
    "    global lists                     \n",
    "    global isPressSign\n",
    "    if isPressSign == False:\n",
    "        pass\n",
    "    else:\n",
    "        result.set(0)\n",
    "        isPressSign = False\n",
    "\n",
    "    oldnum = result.get()            \n",
    "    if oldnum =='0':\n",
    "        result.set(num)\n",
    "    else:                            \n",
    "        newnum = oldnum + num\n",
    "        result.set(newnum)          \n",
    "\n",
    "def pressCompute(sign):\n",
    "    global lists\n",
    "    global isPressSign\n",
    "    num = result.get()              \n",
    "    lists.append(num)               \n",
    "    lists.append(sign)              \n",
    "    isPressSign = True\n",
    "    if sign =='AC':                \n",
    "        lists.clear()\n",
    "        result.set(0)\n",
    "    if sign =='b':                \n",
    "        a = num[0:-1]\n",
    "        lists.clear()\n",
    "        result.set(a)\n",
    "\n",
    "\n",
    "def pressEqual():\n",
    "    global lists\n",
    "    global isPressSign\n",
    "    curnum = result.get()          \n",
    "    lists.append(curnum)\n",
    "    computrStr = ''.join(lists)     \n",
    "    endNum = eval(computrStr)       \n",
    "    result.set(endNum)                  \n",
    "    result2.set(computrStr)        \n",
    "    lists.clear()\n",
    "    \n",
    "root.mainloop()"
   ]
  },
  {
   "cell_type": "markdown",
   "metadata": {},
   "source": [
    "5\\.Ball game:Python's pinball game, which can realize the game function of the keyboard control bottom baffle moving collision ball similar to table tennis game. \n",
    "\n",
    "<div style=\"float:left;\" ><img src=\"img/p5.png\" width=\"200\" height=\"200\" center=\"left\"></div>\n",
    "<div style=\"float:left;\" ><img src=\"img/p6.png\" width=\"200\" height=\"200\" center=\"right\" ></div>\n"
   ]
  },
  {
   "cell_type": "markdown",
   "metadata": {},
   "source": [
    "this is a step:how to install the matplotlib,you can reference this link:https://blog.csdn.net/not_give_up_/article/details/79058272\n",
    "1. Ball Class\n",
    "    draw is responsible for moving Ball\n",
    "    Collision detection, bounce, Ball detection of Paddle \n",
    "2. Paddle Class\n",
    "    draw is responsible for moving Paddle\n",
    "    Collision detection to determine whether or not to continue ,Monitor keyboard events\n",
    "3. main cycle\n",
    "    Drawing the Ball and Paddle"
   ]
  },
  {
   "cell_type": "code",
   "execution_count": 4,
   "metadata": {},
   "outputs": [
    {
     "ename": "TclError",
     "evalue": "can't invoke \"update\" command: application has been destroyed",
     "output_type": "error",
     "traceback": [
      "\u001b[1;31m---------------------------------------------------------------------------\u001b[0m",
      "\u001b[1;31mTclError\u001b[0m                                  Traceback (most recent call last)",
      "\u001b[1;32m<ipython-input-4-c587c7d376d6>\u001b[0m in \u001b[0;36m<module>\u001b[1;34m()\u001b[0m\n\u001b[0;32m    109\u001b[0m         \u001b[0mpaddle\u001b[0m\u001b[1;33m.\u001b[0m\u001b[0mdraw\u001b[0m\u001b[1;33m(\u001b[0m\u001b[1;33m)\u001b[0m\u001b[1;33m\u001b[0m\u001b[0m\n\u001b[0;32m    110\u001b[0m \u001b[1;33m\u001b[0m\u001b[0m\n\u001b[1;32m--> 111\u001b[1;33m     \u001b[0mtk\u001b[0m\u001b[1;33m.\u001b[0m\u001b[0mupdate_idletasks\u001b[0m\u001b[1;33m(\u001b[0m\u001b[1;33m)\u001b[0m\u001b[1;33m\u001b[0m\u001b[0m\n\u001b[0m\u001b[0;32m    112\u001b[0m     \u001b[0mtk\u001b[0m\u001b[1;33m.\u001b[0m\u001b[0mupdate\u001b[0m\u001b[1;33m(\u001b[0m\u001b[1;33m)\u001b[0m\u001b[1;33m\u001b[0m\u001b[0m\n\u001b[0;32m    113\u001b[0m     \u001b[0mtime\u001b[0m\u001b[1;33m.\u001b[0m\u001b[0msleep\u001b[0m\u001b[1;33m(\u001b[0m\u001b[1;36m0.01\u001b[0m\u001b[1;33m)\u001b[0m\u001b[1;33m\u001b[0m\u001b[0m\n",
      "\u001b[1;32m~\\Anaconda3\\lib\\tkinter\\__init__.py\u001b[0m in \u001b[0;36mupdate_idletasks\u001b[1;34m(self)\u001b[0m\n\u001b[0;32m   1177\u001b[0m         \u001b[0mwill\u001b[0m \u001b[0mupdate\u001b[0m \u001b[0mthe\u001b[0m \u001b[0mdisplay\u001b[0m \u001b[0mof\u001b[0m \u001b[0mwindows\u001b[0m \u001b[0mbut\u001b[0m \u001b[1;32mnot\u001b[0m \u001b[0mprocess\u001b[0m \u001b[0mevents\u001b[0m \u001b[0mcaused\u001b[0m \u001b[0mby\u001b[0m\u001b[1;33m\u001b[0m\u001b[0m\n\u001b[0;32m   1178\u001b[0m         the user.\"\"\"\n\u001b[1;32m-> 1179\u001b[1;33m         \u001b[0mself\u001b[0m\u001b[1;33m.\u001b[0m\u001b[0mtk\u001b[0m\u001b[1;33m.\u001b[0m\u001b[0mcall\u001b[0m\u001b[1;33m(\u001b[0m\u001b[1;34m'update'\u001b[0m\u001b[1;33m,\u001b[0m \u001b[1;34m'idletasks'\u001b[0m\u001b[1;33m)\u001b[0m\u001b[1;33m\u001b[0m\u001b[0m\n\u001b[0m\u001b[0;32m   1180\u001b[0m     \u001b[1;32mdef\u001b[0m \u001b[0mbindtags\u001b[0m\u001b[1;33m(\u001b[0m\u001b[0mself\u001b[0m\u001b[1;33m,\u001b[0m \u001b[0mtagList\u001b[0m\u001b[1;33m=\u001b[0m\u001b[1;32mNone\u001b[0m\u001b[1;33m)\u001b[0m\u001b[1;33m:\u001b[0m\u001b[1;33m\u001b[0m\u001b[0m\n\u001b[0;32m   1181\u001b[0m         \"\"\"Set or get the list of bindtags for this widget.\n",
      "\u001b[1;31mTclError\u001b[0m: can't invoke \"update\" command: application has been destroyed"
     ]
    }
   ],
   "source": [
    "## write your answer here!\n",
    "from tkinter import *\n",
    "import random\n",
    "import time\n",
    "\n",
    "class Ball:\n",
    "    def __init__(self, canvas, paddle, color):\n",
    "        self.canvas = canvas\n",
    "        self.paddle = paddle\n",
    "\n",
    "        self.id = canvas.create_oval(10, 10, 25, 25, fill=color)\n",
    "\n",
    "        starts = [-3, -2, -1, 1, 2, 3]\n",
    "        random.shuffle(starts)\n",
    "\n",
    "        self.x = starts[0]\n",
    "        self.y = -3\n",
    "        self.canvas_height = canvas.winfo_height()\n",
    "        self.canvas_width = canvas.winfo_width()\n",
    "\n",
    "        self.is_hitting_bottom = False\n",
    "\n",
    "        canvas.move(self.id, 245, 100)\n",
    "\n",
    "\n",
    "\n",
    "    def draw(self):\n",
    "        self.canvas.move(self.id, self.x, self.y)\n",
    "\n",
    "        pos = self.canvas.coords(self.id)\n",
    "\n",
    "        if pos[1] <= 0:\n",
    "            self.y = 1\n",
    "\n",
    "        if pos[3] >= self.canvas_height:\n",
    "            # self.y = -1\n",
    "            self.is_hitting_bottom = True\n",
    "\n",
    "        if self.hit_top_paddle(pos) == True:\n",
    "            self.y = -3\n",
    "\n",
    "        if self.hit_bottom_paddle(pos) == True:\n",
    "            self.y = 1\n",
    "\n",
    "        if pos[0] <= 0:\n",
    "            self.x = 3\n",
    "\n",
    "        if pos[2] >= self.canvas_width:\n",
    "            self.x = -3\n",
    "\n",
    "    def hit_top_paddle(self, pos):\n",
    "        paddle_pos = self.canvas.coords(self.paddle.id)\n",
    "        if pos[2] >= paddle_pos[0] and pos[0] <= paddle_pos[2]:\n",
    "            if pos[3] >= paddle_pos[1] and pos[3] <= paddle_pos[3]:\n",
    "                return True\n",
    "\n",
    "        return False\n",
    "\n",
    "    def hit_bottom_paddle(self, pos):\n",
    "        paddle_pos = self.canvas.coords(self.paddle.id)\n",
    "        if pos[2] >= paddle_pos[0] and pos[0] <= paddle_pos[2]:\n",
    "            if pos[1] >= paddle_pos[1] and pos[1] <= paddle_pos[3]:\n",
    "                return True\n",
    "\n",
    "        return False\n",
    "\n",
    "class Paddle:\n",
    "    def __init__(self, canvas, color):\n",
    "        self.canvas = canvas\n",
    "        self.id = canvas.create_rectangle(0, 0, 100, 10, fill=color)\n",
    "\n",
    "        self.x = 0\n",
    "        self.canvas_width = canvas.winfo_width()\n",
    "\n",
    "        canvas.move(self.id, 200, 300)\n",
    "\n",
    "        canvas.bind_all('<KeyPress-Left>', self.move_left)\n",
    "        canvas.bind_all('<KeyPress-Right>', self.move_right)\n",
    "\n",
    "    def draw(self):\n",
    "        self.canvas.move(self.id, self.x, 0)\n",
    "\n",
    "        pos = self.canvas.coords(self.id)\n",
    "\n",
    "        if pos[0] <= 0:\n",
    "            self.x = 0\n",
    "\n",
    "        if pos[2] >= self.canvas_width:\n",
    "            self.x = 0\n",
    "\n",
    "    def move_left(self, event):\n",
    "        self.x = -2\n",
    "\n",
    "    def move_right(self, event):\n",
    "        self.x = 2\n",
    "\n",
    "tk = Tk()\n",
    "tk.title('Game')\n",
    "canvas = Canvas(tk, width=550, height=400, bd=0, highlightthickness=0)\n",
    "canvas.pack()\n",
    "tk.update()\n",
    "\n",
    "paddle = Paddle(canvas, 'blue')\n",
    "ball = Ball(canvas, paddle, 'red')\n",
    "\n",
    "while 1:\n",
    "    if ball.is_hitting_bottom == False:\n",
    "        ball.draw()\n",
    "        paddle.draw()\n",
    "\n",
    "    tk.update_idletasks()\n",
    "    tk.update()\n",
    "    time.sleep(0.01)"
   ]
  },
  {
   "cell_type": "code",
   "execution_count": null,
   "metadata": {},
   "outputs": [],
   "source": []
  }
 ],
 "metadata": {
  "kernelspec": {
   "display_name": "Python 3",
   "language": "python",
   "name": "python3"
  },
  "language_info": {
   "codemirror_mode": {
    "name": "ipython",
    "version": 3
   },
   "file_extension": ".py",
   "mimetype": "text/x-python",
   "name": "python",
   "nbconvert_exporter": "python",
   "pygments_lexer": "ipython3",
   "version": "3.6.5"
  }
 },
 "nbformat": 4,
 "nbformat_minor": 2
}
